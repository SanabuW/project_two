{
 "metadata": {
  "language_info": {
   "codemirror_mode": {
    "name": "ipython",
    "version": 3
   },
   "file_extension": ".py",
   "mimetype": "text/x-python",
   "name": "python",
   "nbconvert_exporter": "python",
   "pygments_lexer": "ipython3",
   "version": 3
  },
  "orig_nbformat": 2
 },
 "nbformat": 4,
 "nbformat_minor": 2,
 "cells": [
  {
   "cell_type": "code",
   "execution_count": null,
   "metadata": {},
   "outputs": [],
   "source": [
    "results = session.query(\n",
    "    Grade_data_dummy.id,\n",
    "    Grade_data_dummy.beach_name,\n",
    "    Grade_data_dummy.latitude,\n",
    "    Grade_data_dummy.longitude,\n",
    "    Grade_data_dummy.date,\n",
    "    Grade_data_dummy.dry_grade,\n",
    "    Grade_data_dummy.wet_grade,\n",
    "    Grade_data_dummy.annual_summer_dry,\n",
    "    Grade_data_dummy.annual_year_wet,\n",
    "    Grade_data_dummy.annual_winter_dry,\n",
    "    Grade_data_dummy.annual_year\n",
    "    ).all()\n",
    "\n",
    "    grades_data = []\n",
    "    for grades_info in results:\n",
    "        grades_data.append({\n",
    "            \"id\": grades_info[0],\n",
    "            \"beach_name\": grades_info[1],\n",
    "            \"latitude\": grades_info[2],\n",
    "            \"longitude\": grades_info[3],\n",
    "            \"date\": grades_info[4],\n",
    "            \"dry_grade\": grades_info[5],\n",
    "            \"wet_grade\": grades_info[6],\n",
    "            \"annual_summer_dry\": grades_info[7],\n",
    "            \"annual_year_wet\": grades_info[8],\n",
    "            \"annual_winter_dry\": grades_info[9],\n",
    "            \"annual_year\": grades_info[10]\n",
    "    })"
   ]
  }
 ]
}